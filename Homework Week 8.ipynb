{
 "cells": [
  {
   "cell_type": "markdown",
   "metadata": {},
   "source": [
    "# Homework Week 8\n",
    "## Media Practices: Programming\n",
    "\n"
   ]
  },
  {
   "cell_type": "markdown",
   "metadata": {
    "collapsed": true
   },
   "source": [
    "### Task 1\n",
    "\n",
    "Draw out a Finite State Machine for a simple DVD player.\n",
    "\n",
    "Inputs are : \n",
    "* Play/pause button, \n",
    "* fast forward button, \n",
    "* rewind button, \n",
    "* mute audio button, \n",
    "* door open switch, \n",
    "* media present sensor\n",
    "\n",
    "Outputs are: \n",
    "* video screen, \n",
    "* audio speaker"
   ]
  },
  {
   "cell_type": "code",
   "execution_count": null,
   "metadata": {
    "collapsed": true,
    "slideshow": {
     "slide_type": "notes"
    }
   },
   "outputs": [],
   "source": [
    "\"\"\"door open switch state == closed\n",
    "while true\n",
    "if state == closed\n",
    "    if media present\n",
    "        state == present\n",
    "            if play\n",
    "                state == playing\n",
    "                while true\n",
    "                    if pause\n",
    "                        state == paused\n",
    "                            if play\n",
    "                                state == playing\n",
    "                            elif forward\n",
    "                                state == fwd\n",
    "                                    if play\n",
    "                                        state == playing\n",
    "                            elif rewind\n",
    "                                state == rwd\n",
    "                                    if play\n",
    "                                        state == playiny\n",
    "elif open \n",
    "    state == opened\n",
    "        if close\n",
    "            state == closed\n",
    "            \n",
    "mute audio button state == off\n",
    "while true\n",
    "if mute audio pressed\n",
    "    state == muted\n",
    "        if mute audio pressed\n",
    "            state == off\"\"\"\n",
    "                "
   ]
  },
  {
   "cell_type": "markdown",
   "metadata": {},
   "source": [
    "### Task 2\n",
    "\n",
    "Turn in some notes/ideas on areas you'd like to try to do your project in.\n"
   ]
  },
  {
   "cell_type": "markdown",
   "metadata": {},
   "source": [
    "1) For another class I am exploring my dreams. I have scanned in and collected upwards of 200 dream entries from personal analog and digital dream journals. I'd like to experiment somehow in visualizing the content of my dreams.\n",
    "I'm not a huge fan of data visualization but I am really curious to see the frequency of certain words/symbols from my dreams. Otherwise I'd like it to be a more abstracted/artistic visualization of my dreams, perhaps where each keyword is represented by a visual, and the program can scan a dream for keywords then combine the visuals.\n",
    "\n",
    "2) In taking this class I initially wanted to play more with arduino and sound. I have some sensors and buttons I haven't had a chance to play with and while I don't have a clear concept I would still love to consider this option."
   ]
  },
  {
   "cell_type": "markdown",
   "metadata": {},
   "source": [
    "### Task 3\n",
    "\n",
    "Turn the following into working python. \n",
    "\n",
    "It should test by reading the file data/movieplots.txt so be sure you copy that from my repository as well.\n",
    "\n",
    "### The Algorithm\n",
    "```\n",
    "set sentence_count = 0\n",
    "while not at end of STORY \n",
    "    scan STORY for 'A'..'Z'\n",
    "    when one is found note it's position as CAP_FOUND\n",
    "    scan from  CAP_FOUND for '.' or '?' or '!' or '\"' or end of STORY\n",
    "    if '\"' found from here for '\"' or end of STORY\n",
    "\n",
    "    if end of story found quit\n",
    "    if '.' found if next char a number ignore and continue scanning else increment sentence_count\n",
    "    if '?' or '!'found increment sentence_count\n",
    "\n",
    "```"
   ]
  },
  {
   "cell_type": "code",
   "execution_count": null,
   "metadata": {
    "collapsed": true
   },
   "outputs": [],
   "source": [
    "testfile = open('data/movieplots.txt')\n",
    "test_text = testfile.read()\n",
    "\n",
    "def count_sentences(in_text):\n",
    "    sentence_count = 0\n",
    "    # your code goes here\n",
    "    # remember it's a good idea to embed the algorithm as comments\n",
    "    \n",
    "#while not at end of STORY \n",
    "while in_text != \"\":\n",
    "    for character_index in range(len(in_text)):\n",
    "        #scan STORY for 'A'..'Z'\n",
    "        if (in_text[character_index] in string.ascii_uppercase):\n",
    "            #when one is found note it's position as CAP_FOUND\n",
    "            in_text[character_index] = CAP_FOUND[]\n",
    "            #scan from  CAP_FOUND for '.' or '?' or '!' or '\"' or end of STORY\n",
    "            for character_index (in_text[CAP_FOUND] in ['.', '!', '?', '\"']):\n",
    "                #if '\"' found from here for '\"' or end of STORY      \n",
    "                if (in_text[CAP_FOUND] in ['\"']:\n",
    "                    #if end of story found quit\n",
    "                    break\n",
    "                #if '.' found if next char a number ignore and continue scanning else increment sentence_count\n",
    "                if (in_text[CAP_FOUND] in ['.']) and\n",
    "                    'next char a number'\n",
    "                        continue\n",
    "                    else\n",
    "                        sentence_count += 1\n",
    "                #if '?' or '!'found increment sentence_count\n",
    "                if (in_text[CAP_FOUND] in ['?', '!'])\n",
    "                    sentence_count += 1\n",
    "    # return the number of sentences\n",
    "    return sentence_count\n",
    "\n",
    "print count_sentences(test_text)"
   ]
  }
 ],
 "metadata": {
  "kernelspec": {
   "display_name": "Python 2",
   "language": "python",
   "name": "python2"
  },
  "language_info": {
   "codemirror_mode": {
    "name": "ipython",
    "version": 2
   },
   "file_extension": ".py",
   "mimetype": "text/x-python",
   "name": "python",
   "nbconvert_exporter": "python",
   "pygments_lexer": "ipython2",
   "version": "2.7.10"
  }
 },
 "nbformat": 4,
 "nbformat_minor": 0
}
